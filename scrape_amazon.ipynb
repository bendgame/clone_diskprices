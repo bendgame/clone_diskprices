{
 "cells": [
  {
   "cell_type": "code",
   "execution_count": 12,
   "id": "26012c28-2e8b-49b8-8f5d-e6e8e5d89d49",
   "metadata": {},
   "outputs": [],
   "source": [
    "from bs4 import BeautifulSoup\n",
    "import requests\n",
    "import re\n",
    "import sqlite3\n",
    "from pathlib import Path\n",
    "import time"
   ]
  },
  {
   "cell_type": "code",
   "execution_count": 2,
   "id": "550844e1-569d-4be3-a268-89785f48d3c8",
   "metadata": {},
   "outputs": [],
   "source": [
    "database_path = Path('/database') "
   ]
  },
  {
   "cell_type": "code",
   "execution_count": 3,
   "id": "d5f45252-7a46-4cba-9345-bf86fedeaa20",
   "metadata": {},
   "outputs": [],
   "source": [
    "conn = sqlite3.connect('database/amazon_data.sqlite')\n",
    "c = conn.cursor()"
   ]
  },
  {
   "cell_type": "code",
   "execution_count": 29,
   "id": "c17299d2-5b16-490c-a067-9bba98326148",
   "metadata": {},
   "outputs": [],
   "source": [
    "c.execute('''\n",
    "    CREATE TABLE IF NOT EXISTS products (\n",
    "        price_per_tb REAL,\n",
    "        price REAL,\n",
    "        capacity TEXT,\n",
    "        technology TEXT,\n",
    "        name TEXT,\n",
    "        url TEXT\n",
    "    )\n",
    "''')\n",
    "\n",
    "# Commit the changes and close the connection\n",
    "conn.commit()"
   ]
  },
  {
   "cell_type": "code",
   "execution_count": 5,
   "id": "91b887da-31c6-4854-a765-1b70dac139e0",
   "metadata": {},
   "outputs": [],
   "source": [
    "HEADERS = ({'User-Agent':'Mozilla/5.0 (X11; Linux x86_64) AppleWebKit/537.36 (KHTML, like Gecko) Chrome/44.0.2403.157 Safari/537.36'\n",
    "            , 'Accept-Language': 'en-US, en;q=0.5'})\n",
    "\n",
    "url = 'https://amzn.to/3RlUHdO'\n",
    "response = requests.get(url, headers=HEADERS)\n"
   ]
  },
  {
   "cell_type": "code",
   "execution_count": 38,
   "id": "347469ef-b2e9-4d12-b8c2-821a75ba3fc5",
   "metadata": {},
   "outputs": [],
   "source": [
    "soup = BeautifulSoup(response.content, \"html\")"
   ]
  },
  {
   "cell_type": "code",
   "execution_count": 39,
   "id": "a27ef53a-d393-489a-9c5d-388f9e4861e7",
   "metadata": {},
   "outputs": [],
   "source": [
    "product_name = soup.find(\"span\", attrs={\"id\": 'productTitle'}).string.strip().replace(',', '')\n"
   ]
  },
  {
   "cell_type": "code",
   "execution_count": 40,
   "id": "791c5c7f-5659-469f-8eb3-b3ffc81e3477",
   "metadata": {},
   "outputs": [],
   "source": [
    "product_price = find_price = soup.find(\"input\", attrs={'id': 'attach-base-product-price'}).get('value').strip().replace(',', '')\n",
    "price = float(product_price)"
   ]
  },
  {
   "cell_type": "code",
   "execution_count": null,
   "id": "ab7d22a3-d2af-45f2-8e3a-213a223c47e4",
   "metadata": {},
   "outputs": [],
   "source": []
  },
  {
   "cell_type": "code",
   "execution_count": 51,
   "id": "b7b166c7-78ca-4275-a22d-46c419ee1240",
   "metadata": {},
   "outputs": [],
   "source": [
    "table2= soup.find('table', {'class': 'a-normal a-spacing-micro'})\n",
    "#flash_mem_size = table2.find('th', string=' Flash Memory Size ').find_next('td')"
   ]
  },
  {
   "cell_type": "code",
   "execution_count": 43,
   "id": "af3e90c5-59c3-45f2-8852-b6757262a458",
   "metadata": {},
   "outputs": [
    {
     "name": "stdout",
     "output_type": "stream",
     "text": [
      "['Digital Storage Capacity', '4 TB']\n",
      "['Hard Disk Interface', 'NVMe']\n",
      "['Connectivity Technology', 'NVMe']\n",
      "['Brand', 'Crucial']\n",
      "['Special Feature', 'Portable']\n",
      "['Hard Disk Form Factor', '3.5 Inches']\n",
      "['Hard Disk Description', 'Solid State Drive']\n",
      "['Compatible Devices', 'Desktop']\n",
      "['Installation Type', 'Internal Hard Drive']\n",
      "['Color', 'Black']\n"
     ]
    }
   ],
   "source": [
    "rows = table2.find_all('tr')\n",
    "table_data = []\n",
    "for row in rows:\n",
    "    # Extract text from each cell in the row\n",
    "    cells = row.find_all(['td'])\n",
    "    row_data = [cell.find('span').get_text(strip=True) for cell in cells]\n",
    "    table_data.append(row_data)\n",
    "    print(row_data)"
   ]
  },
  {
   "cell_type": "code",
   "execution_count": 47,
   "id": "08607aab-af11-4ee6-ae9c-5c6ffcaf45a0",
   "metadata": {},
   "outputs": [
    {
     "name": "stdout",
     "output_type": "stream",
     "text": [
      "[['Digital Storage Capacity', '4 TB'], ['Hard Disk Interface', 'NVMe'], ['Connectivity Technology', 'NVMe'], ['Brand', 'Crucial'], ['Special Feature', 'Portable'], ['Hard Disk Form Factor', '3.5 Inches'], ['Hard Disk Description', 'Solid State Drive'], ['Compatible Devices', 'Desktop'], ['Installation Type', 'Internal Hard Drive'], ['Color', 'Black']]\n",
      "4 TB\n"
     ]
    }
   ],
   "source": [
    "print(table_data)\n",
    "print(table_data[0][1])"
   ]
  },
  {
   "cell_type": "code",
   "execution_count": 45,
   "id": "8cc4828a-9a62-43da-9a7f-3a15fe46e487",
   "metadata": {},
   "outputs": [
    {
     "data": {
      "text/plain": [
       "4"
      ]
     },
     "execution_count": 45,
     "metadata": {},
     "output_type": "execute_result"
    }
   ],
   "source": [
    "size = int(re.search(r'\\d+', table_data[0][1]).group())\n",
    "size"
   ]
  },
  {
   "cell_type": "code",
   "execution_count": 46,
   "id": "96c48d20-3b4a-4d1e-ae45-ed4a57f591f9",
   "metadata": {},
   "outputs": [],
   "source": [
    "if table_data[0][1].split(' ')[1] == 'TB':\n",
    "    size = int(re.search(r'\\d+', table_data[0][1]).group())\n",
    "    price_per_terabyte = price/size\n",
    "elif table_data[0][1].split(' ')[1] == 'GB':\n",
    "    size = int(re.search(r'\\d+', table_data[0][1]).group())\n",
    "    size = size / 1000\n",
    "    price_per_terabyte = price/size\n",
    "else: \n",
    "    price_per_terabyte = 'NA'"
   ]
  },
  {
   "cell_type": "code",
   "execution_count": null,
   "id": "ade26625-8f38-4bd5-bd92-ad07401b0a74",
   "metadata": {},
   "outputs": [],
   "source": []
  },
  {
   "cell_type": "code",
   "execution_count": null,
   "id": "f7b14829-7ba0-4e19-860b-a0ea2f01ea4b",
   "metadata": {},
   "outputs": [],
   "source": []
  },
  {
   "cell_type": "code",
   "execution_count": null,
   "id": "b5787404-1c0e-4a25-856b-975493efa09b",
   "metadata": {},
   "outputs": [],
   "source": []
  },
  {
   "cell_type": "code",
   "execution_count": 10,
   "id": "896b76ba-f3f5-4694-8711-7bc8739c04ce",
   "metadata": {},
   "outputs": [],
   "source": [
    "size = int(re.search(r'\\d+', capacity).group())\n",
    "price_per_terabyte = price/size"
   ]
  },
  {
   "cell_type": "code",
   "execution_count": 11,
   "id": "b1d75efe-f80b-409f-9902-fc15962d25db",
   "metadata": {},
   "outputs": [
    {
     "name": "stdout",
     "output_type": "stream",
     "text": [
      "Crucial T700 4TB Gen5 NVMe M.2 SSD - Up to 12400 MB/s - DirectStorage Enabled - CT4000T700SSD3 - Gaming Photography Video Editing & Design - Internal Solid State Drive\n",
      "449.99\n",
      "4 TB\n",
      "NVMe\n",
      "112.4975\n"
     ]
    }
   ],
   "source": [
    "print(product_name)\n",
    "print(product_price)\n",
    "print(capacity)\n",
    "print(technology)\n",
    "print(price_per_terabyte)"
   ]
  },
  {
   "cell_type": "code",
   "execution_count": 31,
   "id": "0b88d2d2-3055-4afc-919a-fbe3dc155d61",
   "metadata": {},
   "outputs": [],
   "source": [
    "rows = [(price_per_terabyte, price, capacity, technology, product_name, url)]\n",
    "c.executemany('insert into products values (?,?,?,?,?,?)', rows)\n",
    "conn.commit()\n"
   ]
  },
  {
   "cell_type": "code",
   "execution_count": null,
   "id": "b146bd55-6091-4ed2-9411-eecc8758e35b",
   "metadata": {},
   "outputs": [],
   "source": [
    "'https://amzn.to/41vdlop'\n",
    ",'https://amzn.to/3tyiGi4'\n",
    ",'https://amzn.to/4868g8l'\n",
    ",'https://amzn.to/3RAYiF0'\n",
    ",'https://amzn.to/3NEgcWe'\n",
    ",'https://amzn.to/3NCHmwP'\n",
    ",'https://amzn.to/48uG4w2'"
   ]
  },
  {
   "cell_type": "code",
   "execution_count": 24,
   "id": "2a14e89d-35f4-4df9-b4bf-ab140d558e29",
   "metadata": {},
   "outputs": [],
   "source": [
    "urls = [\n",
    "    'https://amzn.to/41vdlop','https://amzn.to/3tyiGi4','https://amzn.to/4868g8l','https://amzn.to/3RAYiF0','https://amzn.to/3NEgcWe'\n",
    ",'https://amzn.to/3NCHmwP','https://amzn.to/48uG4w2','https://amzn.to/3NC0yLe','https://amzn.to/48t7m5S','https://amzn.to/487654F'\n",
    ",'https://amzn.to/3RTWyZ8','https://amzn.to/3trvSFC','https://amzn.to/48uhaMK','https://amzn.to/486bB7H','https://amzn.to/4ayTskk'\n",
    ",'https://amzn.to/4axrPZa','https://amzn.to/3vgOdFI','https://amzn.to/4attBdH','https://amzn.to/3vca29F','https://amzn.to/41uc0yh'\n",
    ",'https://amzn.to/41F19la','https://amzn.to/4743LKk','https://amzn.to/3veaG6E','https://amzn.to/41wgx2W','https://amzn.to/3RwmBnO'\n",
    ",'https://amzn.to/48oLPLx','https://amzn.to/3GRXR4f','https://amzn.to/3NAlYIo','https://amzn.to/4azreG7','https://amzn.to/3GReXzi'\n",
    ",'https://amzn.to/3GReM76','https://amzn.to/3NEgGf0','https://amzn.to/3GYkcgs','https://amzn.to/3vjQKio','https://amzn.to/3TzPAtx'\n",
    ",'https://amzn.to/3GYkfc8'\n",
    "]"
   ]
  },
  {
   "cell_type": "code",
   "execution_count": 48,
   "id": "9a3ee75f-8b0c-4a5d-b9c5-5afa0abfe7d0",
   "metadata": {},
   "outputs": [],
   "source": [
    "def scrape_amzn(url):\n",
    "    conn = sqlite3.connect('database/amazon_data.sqlite')\n",
    "    c = conn.cursor()\n",
    "    HEADERS = ({'User-Agent':'Mozilla/5.0 (X11; Linux x86_64) AppleWebKit/537.36 (KHTML, like Gecko) Chrome/44.0.2403.157 Safari/537.36'\n",
    "            , 'Accept-Language': 'en-US, en;q=0.5'})\n",
    "\n",
    "    response = requests.get(url, headers=HEADERS)\n",
    "    soup = BeautifulSoup(response.content, \"lxml\")\n",
    "\n",
    "    try:\n",
    "        product_name = soup.find(\"span\", attrs={\"id\": 'productTitle'}).string.strip().replace(',', '')\n",
    "    except:\n",
    "        product_name = 'Name not found'\n",
    "\n",
    "    try:\n",
    "        product_price = find_price = soup.find(\"input\", attrs={'id': 'attach-base-product-price'}).get('value').strip().replace(',', '')\n",
    "        price = float(product_price)\n",
    "    except:\n",
    "        price = 'NA'\n",
    "\n",
    "    try:\n",
    "        #extract the table\n",
    "        table= soup.find('table', {'class': 'a-normal a-spacing-micro'})\n",
    "        \n",
    "        #extract the rows\n",
    "        rows = table.find_all('tr')\n",
    "        \n",
    "        #create an empty list to store the row data\n",
    "        table_data = []\n",
    "        \n",
    "        #loop through the rows and append the data to the empty list\n",
    "        for row in rows:\n",
    "            cells = row.find_all(['td'])\n",
    "            row_data = [cell.find('span').get_text(strip=True) for cell in cells]\n",
    "            table_data.append(row_data)\n",
    "    except:\n",
    "        print(url + ' No product details found')\n",
    "   \n",
    "    #Extract storage capacity\n",
    "    try:\n",
    "        capacity = table_data[0][1]\n",
    "    except:\n",
    "        capacity = 'NA'\n",
    "\n",
    "    #extract Technology\n",
    "    try:\n",
    "        technology = table_data[1][1]\n",
    "    except:\n",
    "        technology = 'NA'\n",
    "        \n",
    "    #compute price_per_terabyte\n",
    "    if capacity != 'NA' and price != 'NA':\n",
    "        if table_data[0][1].split(' ')[1] == 'TB':\n",
    "            size = int(re.search(r'\\d+', table_data[0][1]).group())\n",
    "            price_per_terabyte = price/size\n",
    "        elif table_data[0][1].split(' ')[1] == 'GB':\n",
    "            size = int(re.search(r'\\d+', table_data[0][1]).group())\n",
    "            size = size / 1000\n",
    "            price_per_terabyte = price/size\n",
    "        else: \n",
    "            price_per_terabyte = 'NA'\n",
    "    else:\n",
    "        price_per_terabyte = 'NA'\n",
    "        \n",
    "    rows = [(price_per_terabyte, price, capacity, technology, product_name, url)]\n",
    "    c.executemany('insert into products values (?,?,?,?,?,?)', rows)\n",
    "    conn.commit()\n",
    "    time.sleep(5)"
   ]
  },
  {
   "cell_type": "code",
   "execution_count": 49,
   "id": "30eabff5-8a54-4f27-98c8-17215531ecb0",
   "metadata": {},
   "outputs": [],
   "source": [
    "urls = [\n",
    "    'https://amzn.to/41vdlop','https://amzn.to/3tyiGi4','https://amzn.to/4868g8l','https://amzn.to/3RAYiF0','https://amzn.to/3NEgcWe']"
   ]
  },
  {
   "cell_type": "code",
   "execution_count": 50,
   "id": "cfffed17-fe44-49d7-8232-3a2e5efc8cfa",
   "metadata": {},
   "outputs": [],
   "source": [
    "\n",
    "for url in urls:\n",
    "    scrape_amzn(url)"
   ]
  },
  {
   "cell_type": "code",
   "execution_count": null,
   "id": "6dbabd16-4326-47dc-b351-6d22f8dd3cda",
   "metadata": {},
   "outputs": [],
   "source": []
  }
 ],
 "metadata": {
  "kernelspec": {
   "display_name": "Python 3 (ipykernel)",
   "language": "python",
   "name": "python3"
  },
  "language_info": {
   "codemirror_mode": {
    "name": "ipython",
    "version": 3
   },
   "file_extension": ".py",
   "mimetype": "text/x-python",
   "name": "python",
   "nbconvert_exporter": "python",
   "pygments_lexer": "ipython3",
   "version": "3.10.13"
  }
 },
 "nbformat": 4,
 "nbformat_minor": 5
}
